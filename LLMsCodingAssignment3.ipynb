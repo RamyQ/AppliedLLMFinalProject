{
 "cells": [
  {
   "cell_type": "markdown",
   "id": "a7d06939",
   "metadata": {},
   "source": [
    "# Coding assignment 3 ipynb"
   ]
  },
  {
   "cell_type": "markdown",
   "id": "69126a93",
   "metadata": {},
   "source": [
    "# Part 1\n",
    "Confusion matrix and scores\n"
   ]
  },
  {
   "cell_type": "code",
   "execution_count": null,
   "id": "acfe05b2",
   "metadata": {},
   "outputs": [],
   "source": [
    "from sklearn.metrics import confusion_matrix, precision_score, recall_score, f1_score \n",
    "\n",
    "actuals = [1, 0, 1, 1, 0, 1, 0, 0, 1, 0] # actuals and predictions\n",
    "predictions = [1, 0, 1, 0, 0, 1, 1, 0, 1, 0]\n",
    "\n",
    "confusionMatrix = confusion_matrix(actuals, predictions) # confusion matrix\n",
    "\n",
    "print(\"Confusion Matrix:\\n\", confusionMatrix)\n",
    "\n",
    "# scores\n",
    "precisionScore = precision_score(actuals, predictions) # scores\n",
    "recallScore = recall_score(actuals, predictions)\n",
    "f1Score = f1_score(actuals, predictions)\n",
    "\n",
    "print(f\"your precision score: {precisionScore:.3f}\")\n",
    "print(f\"Your recall score: {recallScore:.3f}\")\n",
    "print(f\"Your F1-Score: {f1Score:.3f}\")"
   ]
  },
  {
   "cell_type": "markdown",
   "id": "57d34ddf",
   "metadata": {},
   "source": [
    "# Part 2"
   ]
  },
  {
   "cell_type": "markdown",
   "id": "46933b04",
   "metadata": {},
   "source": [
    "Cosine similarity"
   ]
  },
  {
   "cell_type": "code",
   "execution_count": null,
   "id": "4511389c",
   "metadata": {},
   "outputs": [],
   "source": [
    "from sklearn.feature_extraction.text import TfidfVectorizer\n",
    "from sklearn.metrics.pairwise import cosine_similarity\n",
    "\n",
    "sentence1 = \"Machine learning is amazing.\" # samples\n",
    "sentence2 = \"Deep learning is a subset of machine learning.\"\n",
    "\n",
    "vectorizer = TfidfVectorizer() # converts to TF-IDF vectors\n",
    "tfidf_matrix = vectorizer.fit_transform([sentence1, sentence2])\n",
    "\n",
    "cos_sim = cosine_similarity(tfidf_matrix[0], tfidf_matrix[1]) # computes cosine similarity\n",
    "\n",
    "print(f\"Cosine Similarity: {cos_sim[0][0]:.3f}\")\n"
   ]
  }
 ],
 "metadata": {
  "language_info": {
   "name": "python"
  }
 },
 "nbformat": 4,
 "nbformat_minor": 5
}
